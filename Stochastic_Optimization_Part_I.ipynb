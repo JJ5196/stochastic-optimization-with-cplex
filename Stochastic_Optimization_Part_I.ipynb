{
 "cells": [
  {
   "cell_type": "code",
   "execution_count": 1,
   "metadata": {},
   "outputs": [],
   "source": [
    "import docplex.mp, numpy as np, matplotlib.pyplot as plt\n",
    "from docplex.mp.model import Model\n",
    "from scipy.stats import norm"
   ]
  },
  {
   "cell_type": "markdown",
   "metadata": {},
   "source": [
    "#### Uncertain demands\n",
    "$$\n",
    "\t{\\min}_x \\ 2x_1+3x_2\\\\ \n",
    "s.t.\\ \\ \tx_1 + x_2 \\le 100 \\\\\n",
    "\\ \\ \t2x_1 + 6x_2 \\ge h_1(\\xi) \\\\\n",
    "\\ \\ \t3x_1 + 3x_2 \\ge h_2(\\xi) \\\\\n",
    "\\ \\ \tx_1,x_2\\ge 0 \\\\\n",
    "$$\n",
    "\n",
    "$h_1(\\xi)=180+\\zeta_1, \\zeta_1$ ~ $\\mathcal{N}(0,16)$\n",
    "\n",
    "$h_2(\\xi)=163+\\zeta_2, \\zeta_2$ ~ $\\mathcal{N}(0,9)$\n",
    "\n",
    "1. deterministic\n",
    "2. worst-case\n",
    "3. scenario analysis\n",
    "4. chance-constrained\n",
    "5. recourse model\n",
    "6. evaluating model performances"
   ]
  },
  {
   "cell_type": "code",
   "execution_count": 2,
   "metadata": {},
   "outputs": [],
   "source": [
    "num_prod=2\n",
    "c=[2,3]\n",
    "m=2 #dim of uncertainty\n",
    "capacity=100\n",
    "prod_rate=[[2,6],[3,3]]\n",
    "demands=[180,163]"
   ]
  },
  {
   "cell_type": "markdown",
   "metadata": {},
   "source": [
    "### 1. deterministic"
   ]
  },
  {
   "cell_type": "code",
   "execution_count": 3,
   "metadata": {},
   "outputs": [],
   "source": [
    "md1 = Model(name='deterministic')\n",
    "x = {(i): md1.continuous_var(name='x_{0}'.format(i)) for i in range(num_prod)}"
   ]
  },
  {
   "cell_type": "code",
   "execution_count": 4,
   "metadata": {},
   "outputs": [
    {
     "name": "stdout",
     "output_type": "stream",
     "text": [
      "Model: deterministic\n",
      " - number of variables: 2\n",
      "   - binary=0, integer=0, continuous=2\n",
      " - number of constraints: 3\n",
      "   - linear=3\n",
      " - parameters: defaults\n"
     ]
    }
   ],
   "source": [
    "for i in range(m):\n",
    "    md1.add_constraint(md1.sum(x[j]*prod_rate[i][j] for j in range(num_prod)) >= demands[i])\n",
    "md1.add_constraint(md1.sum(x[j] for j in range(num_prod))<=capacity)\n",
    "obj1=md1.minimize(md1.sum(x[i]*c[i] for i in range(num_prod)))\n",
    "md1.print_information()"
   ]
  },
  {
   "cell_type": "code",
   "execution_count": 5,
   "metadata": {},
   "outputs": [
    {
     "name": "stdout",
     "output_type": "stream",
     "text": [
      "solution for: deterministic\n",
      "objective: 126.500\n",
      "x_0 = 36.500\n",
      "x_1 = 17.833\n"
     ]
    }
   ],
   "source": [
    "md1.solve().display()"
   ]
  },
  {
   "cell_type": "markdown",
   "metadata": {},
   "source": [
    "### 2. worst-case"
   ]
  },
  {
   "cell_type": "code",
   "execution_count": 6,
   "metadata": {},
   "outputs": [],
   "source": [
    "h1_99=norm.ppf(0.99,loc=0,scale=16)\n",
    "h2_99=norm.ppf(0.99,loc=0,scale=9)\n",
    "h=[h1_99,h2_99]"
   ]
  },
  {
   "cell_type": "code",
   "execution_count": 7,
   "metadata": {},
   "outputs": [
    {
     "name": "stdout",
     "output_type": "stream",
     "text": [
      "Model: worst_case\n",
      " - number of variables: 2\n",
      "   - binary=0, integer=0, continuous=2\n",
      " - number of constraints: 3\n",
      "   - linear=3\n",
      " - parameters: defaults\n"
     ]
    }
   ],
   "source": [
    "md2 = Model(name='worst_case')\n",
    "x = {(i): md2.continuous_var(name='x_{0}'.format(i)) for i in range(num_prod)}\n",
    "\n",
    "for i in range(m):\n",
    "    md2.add_constraint(md2.sum(x[j]*prod_rate[i][j] for j in range(num_prod)) >= demands[i]+h[i])\n",
    "md2.add_constraint(md2.sum(x[j] for j in range(num_prod))<=capacity)\n",
    "obj2=md2.minimize(md2.sum(x[i]*c[i] for i in range(num_prod)))\n",
    "md2.print_information()"
   ]
  },
  {
   "cell_type": "code",
   "execution_count": 8,
   "metadata": {},
   "outputs": [
    {
     "name": "stdout",
     "output_type": "stream",
     "text": [
      "solution for: worst_case\n",
      "objective: 146.274\n",
      "x_0 = 37.663\n",
      "x_1 = 23.649\n"
     ]
    }
   ],
   "source": [
    "md2.solve().display()"
   ]
  },
  {
   "cell_type": "markdown",
   "metadata": {},
   "source": [
    "### 3. scenario analysis"
   ]
  },
  {
   "cell_type": "code",
   "execution_count": 9,
   "metadata": {},
   "outputs": [
    {
     "data": {
      "text/plain": [
       "(145.258, ['x_0=39.994', 'x_1=21.757'])"
      ]
     },
     "execution_count": 9,
     "metadata": {},
     "output_type": "execute_result"
    }
   ],
   "source": [
    "K=500\n",
    "h_scenario=[(np.random.normal(loc=0,scale=16),np.random.normal(loc=0,scale=9)) for k in range(K)]\n",
    "scenario_perf=[]\n",
    "scenario_x=[]\n",
    "for k in range(K):\n",
    "    md3 = Model(name='scenario_analysis')\n",
    "    x = {(i): md3.continuous_var(name='x_{0}'.format(i)) for i in range(num_prod)}\n",
    "\n",
    "    for i in range(m):\n",
    "        md3.add_constraint(md3.sum(x[j]*prod_rate[i][j] for j in range(num_prod)) >= demands[i]+h_scenario[k][i])\n",
    "    md3.add_constraint(md3.sum(x[j] for j in range(num_prod))<=capacity)\n",
    "    obj3=md3.minimize(md3.sum(x[i]*c[i] for i in range(num_prod)))\n",
    "    outputs=str(md3.solve()).split(\"\\n\")\n",
    "    obj_v=float(outputs[1].split(\": \")[1])\n",
    "    scenario_perf.append(obj_v)\n",
    "    scenario_x.append(outputs[2:-1])\n",
    "max(scenario_perf),scenario_x[np.argmax(scenario_perf)]"
   ]
  },
  {
   "cell_type": "markdown",
   "metadata": {},
   "source": [
    "### 4. chance-constrainted"
   ]
  },
  {
   "cell_type": "code",
   "execution_count": 10,
   "metadata": {},
   "outputs": [],
   "source": [
    "mu_1,sigma_1=0,16\n",
    "mu_2,sigma_2=0,9\n",
    "mus=[mu_1,mu_2]\n",
    "sigmas=[sigma_1,sigma_2]\n",
    "epsilon=0.05"
   ]
  },
  {
   "cell_type": "code",
   "execution_count": 11,
   "metadata": {
    "scrolled": true
   },
   "outputs": [
    {
     "name": "stdout",
     "output_type": "stream",
     "text": [
      "Model: chance_constrainted\n",
      " - number of variables: 2\n",
      "   - binary=0, integer=0, continuous=2\n",
      " - number of constraints: 3\n",
      "   - linear=3\n",
      " - parameters: defaults\n",
      "solution for: chance_constrainted\n",
      "objective: 140.481\n",
      "x_0 = 37.322\n",
      "x_1 = 21.945\n"
     ]
    }
   ],
   "source": [
    "md4 = Model(name='chance_constrainted')\n",
    "x = {(i): md4.continuous_var(name='x_{0}'.format(i)) for i in range(num_prod)}\n",
    "\n",
    "md4.add_constraint(md4.sum(x[j] for j in range(num_prod))<=capacity)\n",
    "\n",
    "for i in range(m):\n",
    "    md4.add_constraint(md4.sum(x[j]*prod_rate[i][j] for j in range(num_prod)) >= demands[i]+mus[i]+norm.ppf(1-epsilon)*sigmas[i])\n",
    "\n",
    "obj4=md4.minimize(md4.sum(x[i]*c[i] for i in range(num_prod)))\n",
    "md4.print_information()\n",
    "md4.solve().display()"
   ]
  },
  {
   "cell_type": "markdown",
   "metadata": {},
   "source": [
    "### 5. model with recourse"
   ]
  },
  {
   "cell_type": "code",
   "execution_count": 12,
   "metadata": {},
   "outputs": [],
   "source": [
    "c_rec=[7,12]"
   ]
  },
  {
   "cell_type": "code",
   "execution_count": 13,
   "metadata": {
    "scrolled": true
   },
   "outputs": [
    {
     "name": "stdout",
     "output_type": "stream",
     "text": [
      "Model: recourse_model\n",
      " - number of variables: 1002\n",
      "   - binary=0, integer=0, continuous=1002\n",
      " - number of constraints: 1001\n",
      "   - linear=1001\n",
      " - parameters: defaults\n",
      "solution for: recourse_model\n",
      "objective: 144.296\n",
      "x_0 = 37.229\n",
      "x_1 = 22.054\n",
      "y_0_0 = 3.677\n",
      "y_44_0 = 4.028\n",
      "y_89_0 = 2.127\n",
      "y_120_0 = 2.599\n",
      "y_148_0 = 9.144\n",
      "y_149_0 = 3.186\n",
      "y_180_0 = 11.726\n",
      "y_181_0 = 3.747\n",
      "y_204_0 = 7.207\n",
      "y_227_0 = 1.796\n",
      "y_255_0 = 7.561\n",
      "y_263_0 = 0.222\n",
      "y_320_0 = 30.708\n",
      "y_385_0 = 8.960\n",
      "y_416_0 = 2.340\n",
      "y_425_0 = 0.337\n",
      "y_475_0 = 6.601\n",
      "y_110_1 = 7.062\n",
      "y_172_1 = 2.872\n",
      "y_181_1 = 7.404\n",
      "y_243_1 = 3.009\n",
      "y_253_1 = 0.057\n",
      "y_262_1 = 5.331\n",
      "y_263_1 = 0.020\n",
      "y_269_1 = 2.679\n",
      "y_277_1 = 4.514\n",
      "y_293_1 = 2.752\n",
      "y_321_1 = 5.351\n",
      "y_330_1 = 6.633\n",
      "y_360_1 = 3.500\n",
      "y_367_1 = 6.289\n",
      "y_381_1 = 0.506\n",
      "y_429_1 = 8.776\n",
      "y_435_1 = 0.153\n",
      "y_459_1 = 5.356\n",
      "y_472_1 = 2.939\n",
      "y_479_1 = 16.207\n"
     ]
    }
   ],
   "source": [
    "md5 = Model(name='recourse_model')\n",
    "x = {(i): md5.continuous_var(name='x_{0}'.format(i),lb=0) for i in range(num_prod)}\n",
    "y = {(k,i): md5.continuous_var(name='y_{0}_{1}'.format(k,i),lb=0) for i in range(num_prod) for k in range(K)}\n",
    "\n",
    "md5.add_constraint(md5.sum(x[j] for j in range(num_prod))<=capacity)\n",
    "\n",
    "for k in range(K):\n",
    "    for i in range(m):\n",
    "        md5.add_constraint(md5.sum(x[j]*prod_rate[i][j] for j in range(num_prod))\\\n",
    "                           +y[k,i] >= demands[i]+h_scenario[k][i])\n",
    "\n",
    "obj5=md5.minimize(md5.sum(x[i]*c[i] for i in range(num_prod))\\\n",
    "                  +md5.sum(md5.sum(y[k,i]*c_rec[i] for i in range(num_prod)) for k in range(K))/K)\n",
    "md5.print_information()\n",
    "md5.solve().display()"
   ]
  },
  {
   "cell_type": "markdown",
   "metadata": {},
   "source": [
    "### Evaluate the performances"
   ]
  },
  {
   "cell_type": "code",
   "execution_count": 15,
   "metadata": {},
   "outputs": [],
   "source": [
    "Decisions={}\n",
    "Decisions[\"deterministic\"]={}\n",
    "Decisions[\"deterministic\"][\"decisions\"]=[36.500,17.833]\n",
    "Decisions[\"deterministic\"][\"obj_v\"]=sum(np.array(Decisions[\"deterministic\"][\"decisions\"])*np.array(c))\n",
    "\n",
    "Decisions[\"worst_case\"]={}\n",
    "Decisions[\"worst_case\"][\"decisions\"]=[37.663,23.649]\n",
    "Decisions[\"worst_case\"][\"obj_v\"]=sum(np.array(Decisions[\"worst_case\"][\"decisions\"])*np.array(c))\n",
    "\n",
    "Decisions[\"scenario_analysis\"]={}\n",
    "Decisions[\"scenario_analysis\"][\"decisions\"]=[39.994,21.757]\n",
    "Decisions[\"scenario_analysis\"][\"obj_v\"]=sum(np.array(Decisions[\"scenario_analysis\"][\"decisions\"])*np.array(c))\n",
    "\n",
    "Decisions[\"chance_constrainted\"]={}\n",
    "Decisions[\"chance_constrainted\"][\"decisions\"]=[37.322,21.945]\n",
    "Decisions[\"chance_constrainted\"][\"obj_v\"]=sum(np.array(Decisions[\"chance_constrainted\"][\"decisions\"])*np.array(c))\n",
    "\n",
    "Decisions[\"recourse_model\"]={}\n",
    "Decisions[\"recourse_model\"][\"decisions\"]=[37.229,22.054]\n",
    "Decisions[\"recourse_model\"][\"obj_v\"]=sum(np.array(Decisions[\"recourse_model\"][\"decisions\"])*np.array(c))\n",
    "for key in Decisions.keys():\n",
    "    Decisions[key][\"feasibility\"]=0"
   ]
  },
  {
   "cell_type": "code",
   "execution_count": 16,
   "metadata": {},
   "outputs": [],
   "source": [
    "for k in range(5000):\n",
    "    h_1,h_2=np.random.normal(loc=0,scale=16),np.random.normal(loc=0,scale=9)\n",
    "    for key in Decisions.keys():\n",
    "        if sum([Decisions[key]['decisions'][i]*prod_rate[0][i] for i in range(num_prod)])>=180+h_1 and \\\n",
    "        sum([Decisions[key]['decisions'][i]*prod_rate[1][i] for i in range(num_prod)])>=163+h_2:\n",
    "            Decisions[key][\"feasibility\"]+=1"
   ]
  },
  {
   "cell_type": "code",
   "execution_count": 17,
   "metadata": {},
   "outputs": [],
   "source": [
    "for key in Decisions.keys():\n",
    "    Decisions[key][\"feasibility\"]/=5000"
   ]
  },
  {
   "cell_type": "code",
   "execution_count": 18,
   "metadata": {
    "scrolled": true
   },
   "outputs": [
    {
     "data": {
      "text/plain": [
       "{'deterministic': {'decisions': [36.5, 17.833],\n",
       "  'obj_v': 126.499,\n",
       "  'feasibility': 0.2514},\n",
       " 'worst_case': {'decisions': [37.663, 23.649],\n",
       "  'obj_v': 146.273,\n",
       "  'feasibility': 0.981},\n",
       " 'scenario_analysis': {'decisions': [39.994, 21.757],\n",
       "  'obj_v': 145.25900000000001,\n",
       "  'feasibility': 0.968},\n",
       " 'chance_constrainted': {'decisions': [37.322, 21.945],\n",
       "  'obj_v': 140.479,\n",
       "  'feasibility': 0.9076},\n",
       " 'recourse_model': {'decisions': [37.229, 22.054],\n",
       "  'obj_v': 140.62,\n",
       "  'feasibility': 0.91}}"
      ]
     },
     "execution_count": 18,
     "metadata": {},
     "output_type": "execute_result"
    }
   ],
   "source": [
    "Decisions"
   ]
  },
  {
   "cell_type": "markdown",
   "metadata": {},
   "source": [
    "As we can see, the model chance constrainted has a small enough objective function value and it has good feasiblity"
   ]
  }
 ],
 "metadata": {
  "kernelspec": {
   "display_name": "Python 3",
   "language": "python",
   "name": "python3"
  },
  "language_info": {
   "codemirror_mode": {
    "name": "ipython",
    "version": 3
   },
   "file_extension": ".py",
   "mimetype": "text/x-python",
   "name": "python",
   "nbconvert_exporter": "python",
   "pygments_lexer": "ipython3",
   "version": "3.7.4"
  }
 },
 "nbformat": 4,
 "nbformat_minor": 2
}
